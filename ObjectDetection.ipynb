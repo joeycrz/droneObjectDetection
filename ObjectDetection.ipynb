{
 "cells": [
  {
   "cell_type": "code",
   "execution_count": 1,
   "id": "5d08dda1-9c51-42a5-9b0d-9163b7b9a1ce",
   "metadata": {
    "scrolled": true
   },
   "outputs": [
    {
     "name": "stdout",
     "output_type": "stream",
     "text": [
      "^C\n"
     ]
    }
   ],
   "source": [
    "!pip install torch torchvision torchaudio --index-url https://download.pytorch.org/whl/cu121"
   ]
  },
  {
   "cell_type": "code",
   "execution_count": null,
   "id": "da6f7a18-5fd6-4ca5-b14a-55ff375033bc",
   "metadata": {},
   "outputs": [],
   "source": [
    "!git clone https://github.com/ultralytics/yolov5"
   ]
  },
  {
   "cell_type": "code",
   "execution_count": null,
   "id": "5f51ac51-9fdf-48a1-b6fe-06643c6bdf3e",
   "metadata": {
    "scrolled": true
   },
   "outputs": [],
   "source": [
    "!cd yolov5 & pip install -r requirements.txt"
   ]
  },
  {
   "cell_type": "code",
   "execution_count": null,
   "id": "b6eccf8c-5c0f-46d3-8dc2-6ad5a33d62fc",
   "metadata": {},
   "outputs": [],
   "source": [
    "import torch\n",
    "from matplotlib import pyplot as plt\n",
    "import numpy as np\n",
    "import cv2"
   ]
  },
  {
   "cell_type": "code",
   "execution_count": null,
   "id": "f4fa4660-6665-497a-848b-2517d14a76d5",
   "metadata": {},
   "outputs": [],
   "source": [
    "model = torch.hub.load('ultralytics/yolov5', 'yolov5s')"
   ]
  },
  {
   "cell_type": "code",
   "execution_count": null,
   "id": "8715b21d-c6f4-4f0b-8f44-c5df951aaf62",
   "metadata": {},
   "outputs": [],
   "source": [
    "model"
   ]
  },
  {
   "cell_type": "markdown",
   "id": "6a534cbc-560f-414c-bb66-0b496c07812b",
   "metadata": {},
   "source": [
    "## 3. Testing detection"
   ]
  },
  {
   "cell_type": "code",
   "execution_count": null,
   "id": "235c5847-14ad-41b3-968f-a7b6ce5e9fb1",
   "metadata": {},
   "outputs": [],
   "source": [
    "img = 'https://miutrgv.github.io/images/resources/lab.jpg'"
   ]
  },
  {
   "cell_type": "code",
   "execution_count": null,
   "id": "0a86952a-614d-4902-9d59-714915d43a8f",
   "metadata": {},
   "outputs": [],
   "source": [
    "results = model(img)\n",
    "results.print()"
   ]
  },
  {
   "cell_type": "code",
   "execution_count": null,
   "id": "fc2c823c-bb49-47e9-a8c7-d508076a3de2",
   "metadata": {},
   "outputs": [],
   "source": [
    "%matplotlib inline\n",
    "plt.imshow(np.squeeze(results.render()))\n",
    "plt.show()"
   ]
  },
  {
   "cell_type": "markdown",
   "id": "971af380-73f9-4d1e-9a84-eaa41ea87936",
   "metadata": {},
   "source": [
    "## 4. Real Time Detections"
   ]
  },
  {
   "cell_type": "code",
   "execution_count": null,
   "id": "c61a906d-94ff-4bc5-8eec-c9aca2352103",
   "metadata": {},
   "outputs": [],
   "source": [
    "cap = cv2.VideoCapture(0)\n",
    "while cap.isOpened():\n",
    "    ret, frame = cap.read()\n",
    "    \n",
    "    # Make detections\n",
    "    results = model(frame)\n",
    "\n",
    "    cv2.imshow('YOLO', np.squeeze(results.render()))\n",
    "\n",
    "    if cv2.waitKey(10) & 0xFF == ord('q'):\n",
    "        break\n",
    "\n",
    "cap.release()\n",
    "cv2.destroyAllWindows()"
   ]
  },
  {
   "cell_type": "markdown",
   "id": "11fd7657-14f5-4740-a06e-6709db523701",
   "metadata": {},
   "source": [
    "## 5. Creating my own custom model"
   ]
  },
  {
   "cell_type": "code",
   "execution_count": null,
   "id": "1b97d284-4556-42d5-95e8-0d231028950e",
   "metadata": {},
   "outputs": [],
   "source": [
    "import uuid     # Creating a unique identifier\n",
    "import os\n",
    "import time"
   ]
  },
  {
   "cell_type": "code",
   "execution_count": null,
   "id": "4a91e26f-ce37-49ed-a528-11d748d46bf6",
   "metadata": {},
   "outputs": [],
   "source": [
    "IMAGES_PATH = os.path.join('data', 'images')  # /data/images\n",
    "labels = ['target']\n",
    "number_imgs = 20"
   ]
  },
  {
   "cell_type": "code",
   "execution_count": null,
   "id": "ad3cdf66-2e39-4954-a689-3d6fd3014e9f",
   "metadata": {
    "scrolled": true
   },
   "outputs": [],
   "source": [
    "cap = cv2.VideoCapture(0)\n",
    "# Loop through labels\n",
    "for label in labels:\n",
    "    print('Collecting images for {}'.format(label))\n",
    "\n",
    "    # Loop through image range\n",
    "    for img_num in range(number_imgs):\n",
    "        print('Collecting images for {}, image number {}'.format(label, img_num))\n",
    "\n",
    "        # Webcam feed\n",
    "        ret, frame = cap.read()\n",
    "\n",
    "        # Naming out image path\n",
    "        imgname = os.path.join(IMAGES_PATH, label + '.' + str(uuid.uuid1()) + '.jpg')\n",
    "\n",
    "        # Writes out image to file\n",
    "        cv2.imwrite(imgname,frame)\n",
    "\n",
    "        # Render to the screen\n",
    "        cv2.imshow('Image Collection', frame)\n",
    "\n",
    "        # 2 second delay between captures\n",
    "        time.sleep(2)\n",
    "        \n",
    "        if cv2.waitKey(10) & 0xFF == ord('q'):\n",
    "            break\n",
    "\n",
    "cap.release()\n",
    "cv2.destroyAllWindows()\n",
    "        "
   ]
  },
  {
   "cell_type": "code",
   "execution_count": null,
   "id": "d7d22d7c-aa59-4b46-a564-6d3005c021c9",
   "metadata": {},
   "outputs": [],
   "source": [
    "labels[0]"
   ]
  },
  {
   "cell_type": "code",
   "execution_count": null,
   "id": "39277ffd-b906-483c-af0f-14616da7041d",
   "metadata": {
    "scrolled": true
   },
   "outputs": [],
   "source": [
    "for label in labels:\n",
    "    print('Collecting images for {}'.format(label))\n",
    "    for img_num in range(number_imgs):\n",
    "        print('Collecting images for {}, image number {}'.format(label, img_num))\n",
    "        imgname = os.path.join(IMAGES_PATH, label + '.' + str(uuid.uuid1()) + '.jpg')\n",
    "        print(imgname)\n"
   ]
  },
  {
   "cell_type": "code",
   "execution_count": null,
   "id": "a2ad50cc-0da5-4dcc-8cd9-8a8d35921b94",
   "metadata": {},
   "outputs": [],
   "source": [
    "!git clone https://github.com/HumanSignal/labelImg.git"
   ]
  },
  {
   "cell_type": "code",
   "execution_count": null,
   "id": "8e68042a-0715-4993-a95e-4faf883a8628",
   "metadata": {},
   "outputs": [],
   "source": [
    "!pip install pyqt5 lxml --upgrade\n",
    "!cd labelImg && pyrcc5 -o libs/resources.py resources.qrc"
   ]
  },
  {
   "cell_type": "markdown",
   "id": "8f8dce1c-5226-4e4b-bd68-997d35f81789",
   "metadata": {},
   "source": [
    "## 6. Loading our custom model"
   ]
  },
  {
   "cell_type": "code",
   "execution_count": null,
   "id": "662e1239-3130-4162-b71b-7dfd9c44871b",
   "metadata": {},
   "outputs": [],
   "source": []
  },
  {
   "cell_type": "code",
   "execution_count": null,
   "id": "5842a096-7154-4877-9171-80116b713c27",
   "metadata": {},
   "outputs": [],
   "source": []
  },
  {
   "cell_type": "code",
   "execution_count": null,
   "id": "e1a12116-b557-42e4-9caa-2183a092ea1e",
   "metadata": {},
   "outputs": [],
   "source": []
  },
  {
   "cell_type": "code",
   "execution_count": null,
   "id": "1336064e-835c-4739-8fcc-ea43205ba05b",
   "metadata": {},
   "outputs": [],
   "source": []
  }
 ],
 "metadata": {
  "kernelspec": {
   "display_name": "Python 3 (ipykernel)",
   "language": "python",
   "name": "python3"
  },
  "language_info": {
   "codemirror_mode": {
    "name": "ipython",
    "version": 3
   },
   "file_extension": ".py",
   "mimetype": "text/x-python",
   "name": "python",
   "nbconvert_exporter": "python",
   "pygments_lexer": "ipython3",
   "version": "3.11.5"
  }
 },
 "nbformat": 4,
 "nbformat_minor": 5
}
